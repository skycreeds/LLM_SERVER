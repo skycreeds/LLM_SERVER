{
  "nbformat": 4,
  "nbformat_minor": 0,
  "metadata": {
    "colab": {
      "provenance": [],
      "authorship_tag": "ABX9TyMD7NJaS1s5M86Hgc1A2Q/e",
      "include_colab_link": true
    },
    "kernelspec": {
      "name": "python3",
      "display_name": "Python 3"
    },
    "language_info": {
      "name": "python"
    }
  },
  "cells": [
    {
      "cell_type": "markdown",
      "metadata": {
        "id": "view-in-github",
        "colab_type": "text"
      },
      "source": [
        "<a href=\"https://colab.research.google.com/github/skycreeds/LLM_SERVER/blob/master/API.ipynb\" target=\"_parent\"><img src=\"https://colab.research.google.com/assets/colab-badge.svg\" alt=\"Open In Colab\"/></a>"
      ]
    },
    {
      "cell_type": "code",
      "execution_count": null,
      "metadata": {
        "id": "bItbbvCxO72c"
      },
      "outputs": [],
      "source": [
        "!pip install fastapi nest-asyncio pyngrok uvicorn"
      ]
    },
    {
      "cell_type": "code",
      "source": [
        "!ngrok config add-authtoken 2bb4ZJdDB6G3hofGVVv7mtxdsHY_2jGXBAH6YYYKqQNhNXJLm"
      ],
      "metadata": {
        "id": "Tg5BCzz5PLTM"
      },
      "execution_count": null,
      "outputs": []
    },
    {
      "cell_type": "code",
      "source": [
        "!pip install langchain bitsandbytes sentence-transformers faiss-cpu playwright html2text"
      ],
      "metadata": {
        "id": "pkgyLxvXPTFe"
      },
      "execution_count": null,
      "outputs": []
    },
    {
      "cell_type": "code",
      "source": [
        "! playwright install"
      ],
      "metadata": {
        "id": "3uhtHh16PaMU"
      },
      "execution_count": null,
      "outputs": []
    },
    {
      "cell_type": "code",
      "source": [
        "from langchain.text_splitter import CharacterTextSplitter\n",
        "from langchain.document_loaders import AsyncChromiumLoader\n",
        "from langchain.document_transformers import Html2TextTransformer\n",
        "from langchain.vectorstores import FAISS\n",
        "from langchain.embeddings import HuggingFaceEmbeddings\n",
        "import langchain_community\n",
        "import nest_asyncio\n",
        "nest_asyncio.apply()"
      ],
      "metadata": {
        "id": "mVXgdq58mqvz"
      },
      "execution_count": null,
      "outputs": []
    },
    {
      "cell_type": "code",
      "source": [
        "hug_embed=HuggingFaceEmbeddings(model_name='sentence-transformers/all-mpnet-base-v2')"
      ],
      "metadata": {
        "id": "e3zgH8nHmvlo"
      },
      "execution_count": null,
      "outputs": []
    },
    {
      "cell_type": "code",
      "source": [
        "def create_or_add_docs(docs:list,index:langchain_community.vectorstores.faiss.FAISS = None):\n",
        "  loader = AsyncChromiumLoader(docs)\n",
        "  docs = loader.load()\n",
        "  html2text = Html2TextTransformer()\n",
        "  docs_transformed = html2text.transform_documents(docs)\n",
        "  text_splitter = CharacterTextSplitter(chunk_size=100,\n",
        "                                      chunk_overlap=0)\n",
        "  chunked_documents = text_splitter.split_documents(docs_transformed)\n",
        "  if index is None:\n",
        "    db = FAISS.from_documents(chunked_documents,\n",
        "                          hug_embed)\n",
        "\n",
        "  return db"
      ],
      "metadata": {
        "id": "--qvWyY9m4Mp"
      },
      "execution_count": null,
      "outputs": []
    },
    {
      "cell_type": "code",
      "source": [
        "db=None"
      ],
      "metadata": {
        "id": "8HaWv-KInsh3"
      },
      "execution_count": null,
      "outputs": []
    },
    {
      "cell_type": "code",
      "source": [
        "from fastapi import FastAPI,UploadFile\n",
        "from fastapi.middleware.cors import CORSMiddleware\n",
        "import json\n",
        "\n",
        "app = FastAPI()\n",
        "\n",
        "\n",
        "@app.post(\"/link\")\n",
        "async def receive_data(link:dict):\n",
        "    print(link[\"abc\"])\n",
        "    result = link[\"abc\"].split(',')\n",
        "    db=create_or_add_docs(result)\n",
        "    return result\n"
      ],
      "metadata": {
        "id": "xUv4bO0MUH58"
      },
      "execution_count": null,
      "outputs": []
    },
    {
      "cell_type": "code",
      "source": [
        "import nest_asyncio\n",
        "from pyngrok import ngrok\n",
        "import uvicorn\n",
        "\n",
        "\n",
        "# specify a port\n",
        "port = 8000\n",
        "ngrok_tunnel = ngrok.connect(port)\n",
        "\n",
        "print('Public URL:', ngrok_tunnel.public_url)\n",
        "\n",
        "\n",
        "nest_asyncio.apply()\n",
        "\n",
        "# finally run the app\n",
        "uvicorn.run(app, port=port)"
      ],
      "metadata": {
        "id": "axSvjssGUHzN"
      },
      "execution_count": null,
      "outputs": []
    }
  ]
}